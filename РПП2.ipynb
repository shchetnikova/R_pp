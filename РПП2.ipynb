{
  "nbformat": 4,
  "nbformat_minor": 0,
  "metadata": {
    "colab": {
      "provenance": [],
      "include_colab_link": true
    },
    "kernelspec": {
      "name": "python3",
      "display_name": "Python 3"
    },
    "language_info": {
      "name": "python"
    }
  },
  "cells": [
    {
      "cell_type": "markdown",
      "metadata": {
        "id": "view-in-github",
        "colab_type": "text"
      },
      "source": [
        "<a href=\"https://colab.research.google.com/github/shchetnikova/R_pp/blob/main/%D0%A0%D0%9F%D0%9F2.ipynb\" target=\"_parent\"><img src=\"https://colab.research.google.com/assets/colab-badge.svg\" alt=\"Open In Colab\"/></a>"
      ]
    },
    {
      "cell_type": "code",
      "execution_count": null,
      "metadata": {
        "colab": {
          "base_uri": "https://localhost:8080/"
        },
        "id": "OMJv0kZRugQf",
        "outputId": "cd9d69f4-b9d4-45d2-ff01-34effdb937f8"
      },
      "outputs": [
        {
          "output_type": "stream",
          "name": "stdout",
          "text": [
            "Введите первое число: 12\n",
            "Введите второе число: 13\n",
            "Введите третье число: 14\n",
            "минимальным является: 12\n"
          ]
        }
      ],
      "source": [
        "a = int(input('Введите первое число: '))\n",
        "b = int(input('Введите второе число: '))\n",
        "c = int(input('Введите третье число: '))\n",
        "print('минимальным является: ', end='')\n",
        "if b>= a <=c:\n",
        "    print(a)\n",
        "elif a >= b <= c:\n",
        "    print(b)\n",
        "elif a >= c <= b:\n",
        "    print(c)"
      ]
    },
    {
      "cell_type": "code",
      "source": [
        "a = int(input())\n",
        "if a in range (1,51):\n",
        "    print('Попадает в интервал: ', a)\n",
        "else: print('Не попадает в интервал')\n",
        "b = int (input())\n",
        "if b in range (1,51):\n",
        "    print('Попадает в интервал: ', b)\n",
        "else: print('Не попадает в интервал')\n",
        "c = int(input())\n",
        "if c in range (1,51):\n",
        "  print('Попадает в интервал: ', c)\n",
        "else: print('Не попадает в интервал')"
      ],
      "metadata": {
        "colab": {
          "base_uri": "https://localhost:8080/"
        },
        "id": "SAk_VYUvuowk",
        "outputId": "29d2d3e8-10a1-4aa1-8e4a-31cdadec26c9"
      },
      "execution_count": null,
      "outputs": [
        {
          "output_type": "stream",
          "name": "stdout",
          "text": [
            "50\n",
            "Попадает в интервал:  50\n",
            "0\n",
            "Не попадает в интервал\n",
            "1\n",
            "Попадает в интервал:  1\n"
          ]
        }
      ]
    },
    {
      "cell_type": "code",
      "source": [
        "m = float(input('Введите число: '))\n",
        "list = []\n",
        "for i in range (1,11):\n",
        "  if i <= 10:\n",
        "    list.append(i*m)\n",
        "print(list)"
      ],
      "metadata": {
        "colab": {
          "base_uri": "https://localhost:8080/"
        },
        "id": "6q_9hBznxu9m",
        "outputId": "9a72402a-158e-430b-9e62-004ee71979e4"
      },
      "execution_count": null,
      "outputs": [
        {
          "output_type": "stream",
          "name": "stdout",
          "text": [
            "Введите число: 82\n",
            "[82.0, 164.0, 246.0, 328.0, 410.0, 492.0, 574.0, 656.0, 738.0, 820.0]\n"
          ]
        }
      ]
    },
    {
      "cell_type": "code",
      "source": [
        "i=0\n",
        "while True:\n",
        "  a = int(input())\n",
        "  if a == 0:\n",
        "    break\n",
        "  i +=a\n",
        "print(i)"
      ],
      "metadata": {
        "colab": {
          "base_uri": "https://localhost:8080/"
        },
        "id": "GYAkTP9I0gut",
        "outputId": "1f198e90-b132-4f29-df02-a4ab8ced049b"
      },
      "execution_count": null,
      "outputs": [
        {
          "output_type": "stream",
          "name": "stdout",
          "text": [
            "5\n",
            "3\n",
            "7\n",
            "90\n",
            "332\n",
            "54\n",
            "65\n",
            "76\n",
            "878\n",
            "0\n",
            "1510\n"
          ]
        }
      ]
    },
    {
      "cell_type": "code",
      "source": [
        "  i=0\n",
        "  while True:\n",
        "    a = int(input())\n",
        "    if a != 0:\n",
        "      i += 1\n",
        "    elif a == 0:\n",
        "      break\n",
        "  print(i)"
      ],
      "metadata": {
        "colab": {
          "base_uri": "https://localhost:8080/"
        },
        "id": "oS7whwHR2mX2",
        "outputId": "84c726dd-50b6-4b11-c4a3-5ac056191310"
      },
      "execution_count": null,
      "outputs": [
        {
          "output_type": "stream",
          "name": "stdout",
          "text": [
            "666\n",
            "666\n",
            "666\n",
            "0\n",
            "3\n"
          ]
        }
      ]
    },
    {
      "cell_type": "code",
      "source": [
        "#2.3\n",
        "s = list(input())\n",
        "print('Количество удаленных символов: ', s.count('.'))\n",
        "s_len = len(s)\n",
        "print(s_len)\n",
        "for i in range (s_len):\n",
        "  if s[i] == '.':\n",
        "      s[i] = ''\n",
        "print(s)"
      ],
      "metadata": {
        "id": "pOAlyNdK3cRV",
        "colab": {
          "base_uri": "https://localhost:8080/",
          "height": 244
        },
        "outputId": "73045327-1dec-48d4-f6b3-176d272c0610"
      },
      "execution_count": null,
      "outputs": [
        {
          "output_type": "error",
          "ename": "AttributeError",
          "evalue": "ignored",
          "traceback": [
            "\u001b[0;31m---------------------------------------------------------------------------\u001b[0m",
            "\u001b[0;31mAttributeError\u001b[0m                            Traceback (most recent call last)",
            "\u001b[0;32m<ipython-input-17-5b7dceb01465>\u001b[0m in \u001b[0;36m<module>\u001b[0;34m\u001b[0m\n\u001b[1;32m      1\u001b[0m \u001b[0;31m#2.3\u001b[0m\u001b[0;34m\u001b[0m\u001b[0;34m\u001b[0m\u001b[0m\n\u001b[1;32m      2\u001b[0m \u001b[0ms\u001b[0m \u001b[0;34m=\u001b[0m \u001b[0mlist\u001b[0m\u001b[0;34m[\u001b[0m\u001b[0mi\u001b[0m\u001b[0;34m]\u001b[0m\u001b[0;34m\u001b[0m\u001b[0;34m\u001b[0m\u001b[0m\n\u001b[0;32m----> 3\u001b[0;31m \u001b[0mprint\u001b[0m\u001b[0;34m(\u001b[0m\u001b[0;34m'Количество удаленных символов: '\u001b[0m\u001b[0;34m,\u001b[0m \u001b[0ms\u001b[0m\u001b[0;34m.\u001b[0m\u001b[0mcount\u001b[0m\u001b[0;34m(\u001b[0m\u001b[0;34m'.'\u001b[0m\u001b[0;34m)\u001b[0m\u001b[0;34m)\u001b[0m\u001b[0;34m\u001b[0m\u001b[0;34m\u001b[0m\u001b[0m\n\u001b[0m\u001b[1;32m      4\u001b[0m \u001b[0ms_len\u001b[0m \u001b[0;34m=\u001b[0m \u001b[0mlen\u001b[0m\u001b[0;34m(\u001b[0m\u001b[0ms\u001b[0m\u001b[0;34m)\u001b[0m\u001b[0;34m\u001b[0m\u001b[0;34m\u001b[0m\u001b[0m\n\u001b[1;32m      5\u001b[0m \u001b[0mprint\u001b[0m\u001b[0;34m(\u001b[0m\u001b[0ms_len\u001b[0m\u001b[0;34m)\u001b[0m\u001b[0;34m\u001b[0m\u001b[0;34m\u001b[0m\u001b[0m\n",
            "\u001b[0;31mAttributeError\u001b[0m: 'int' object has no attribute 'count'"
          ]
        }
      ]
    },
    {
      "cell_type": "code",
      "source": [
        "#3.3\n",
        "list = []\n",
        "list1 = []\n",
        "for _ in range(int(input())):\n",
        "  list.append(int(input()))\n",
        "print(list)\n",
        "for i in list:\n",
        "  if i % 2 != 0:\n",
        "    list1.append(i)\n",
        "print('Сумма чисел с нечетным индексом: ', list1)\n",
        "m = 2\n",
        "for i in range(len(list)):\n",
        "   if list[i] < 15:\n",
        "     list[i] *= m\n",
        "     print('Удвоенное число: ', list[i])\n",
        "     print(list)"
      ],
      "metadata": {
        "colab": {
          "base_uri": "https://localhost:8080/"
        },
        "id": "rG7dQmwCNbYH",
        "outputId": "3ddc7085-a367-4553-9544-d8025900beaa"
      },
      "execution_count": null,
      "outputs": [
        {
          "output_type": "stream",
          "name": "stdout",
          "text": [
            "5\n",
            "7\n",
            "89\n",
            "32\n",
            "21\n",
            "23\n",
            "[7, 89, 32, 21, 23]\n",
            "Сумма чисел с нечетным индексом:  [7, 89, 21, 23]\n",
            "Удвоенное число:  14\n",
            "[14, 89, 32, 21, 23]\n"
          ]
        }
      ]
    }
  ]
}